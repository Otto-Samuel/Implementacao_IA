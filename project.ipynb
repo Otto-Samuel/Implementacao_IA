{
 "cells": [
  {
   "cell_type": "code",
   "execution_count": 2,
   "id": "705df49f",
   "metadata": {},
   "outputs": [
    {
     "name": "stdout",
     "output_type": "stream",
     "text": [
      "Requirement already satisfied: scikit-fuzzy in c:\\users\\ottos\\appdata\\local\\programs\\python\\python313\\lib\\site-packages (0.5.0)\n"
     ]
    }
   ],
   "source": [
    "!pip install -U scikit-fuzzy"
   ]
  },
  {
   "cell_type": "code",
   "execution_count": 3,
   "id": "3b96ea9a",
   "metadata": {},
   "outputs": [],
   "source": [
    "import skfuzzy as skf"
   ]
  },
  {
   "cell_type": "code",
   "execution_count": null,
   "id": "ac33bf00",
   "metadata": {},
   "outputs": [],
   "source": []
  }
 ],
 "metadata": {
  "kernelspec": {
   "display_name": "Python 3",
   "language": "python",
   "name": "python3"
  },
  "language_info": {
   "codemirror_mode": {
    "name": "ipython",
    "version": 3
   },
   "file_extension": ".py",
   "mimetype": "text/x-python",
   "name": "python",
   "nbconvert_exporter": "python",
   "pygments_lexer": "ipython3",
   "version": "3.13.6"
  }
 },
 "nbformat": 4,
 "nbformat_minor": 5
}
